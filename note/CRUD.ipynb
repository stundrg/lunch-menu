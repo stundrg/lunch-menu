{
 "cells": [
  {
   "cell_type": "code",
   "execution_count": 1,
   "id": "5afab39f-c1b1-4ab8-a4f7-37e6852561ae",
   "metadata": {},
   "outputs": [],
   "source": [
    "import psycopg "
   ]
  },
  {
   "cell_type": "code",
   "execution_count": 11,
   "id": "449836a7-75cb-4e05-a522-845c0ec209ac",
   "metadata": {},
   "outputs": [],
   "source": [
    "DB_CONFIG = {\n",
    "    \"dbname\" : \"sunsindb\",\n",
    "    \"user\" : \"sunsin\",\n",
    "    \"password\" : \"mysecretpassword\",\n",
    "    \"host\" : \"localhost\",\n",
    "    \"port\" : \"5432\"\n",
    "}"
   ]
  },
  {
   "cell_type": "code",
   "execution_count": 12,
   "id": "4c80a9cf-b07a-4d30-9010-8107eabc4b2c",
   "metadata": {},
   "outputs": [
    {
     "data": {
      "text/plain": [
       "<psycopg.Connection [IDLE] (host=localhost user=sunsin database=sunsindb) at 0x7f825bc06860>"
      ]
     },
     "execution_count": 12,
     "metadata": {},
     "output_type": "execute_result"
    }
   ],
   "source": [
    "psycopg.connect(**DB_CONFIG)"
   ]
  },
  {
   "cell_type": "code",
   "execution_count": 14,
   "id": "3d79e783-f018-4cb7-88fa-56bd88db8793",
   "metadata": {},
   "outputs": [
    {
     "data": {
      "text/plain": [
       "<psycopg.Connection [IDLE] (host=localhost user=sunsin database=sunsindb) at 0x7f8259705570>"
      ]
     },
     "execution_count": 14,
     "metadata": {},
     "output_type": "execute_result"
    }
   ],
   "source": [
    "psycopg.connect(dbname = \"sunsindb\",\n",
    "    user = \"sunsin\",\n",
    "    password = \"mysecretpassword\",\n",
    "    host = \"localhost\",\n",
    "    port = \"5432\")"
   ]
  },
  {
   "cell_type": "code",
   "execution_count": 18,
   "id": "9fec55f1-513a-408d-a3fa-138eb894bb46",
   "metadata": {},
   "outputs": [],
   "source": [
    "def get_connection():\n",
    "    return psycopg.connect(**DB_CONFIG)"
   ]
  },
  {
   "cell_type": "code",
   "execution_count": 24,
   "id": "ab3a49ca-5a25-481c-a2cd-11c15d4558d4",
   "metadata": {},
   "outputs": [],
   "source": [
    "conn = get_connection()"
   ]
  },
  {
   "cell_type": "code",
   "execution_count": 25,
   "id": "2e2ea934-67ce-4b8b-9890-514e31b1bafb",
   "metadata": {},
   "outputs": [],
   "source": [
    "cursor = conn.cursor()"
   ]
  },
  {
   "cell_type": "code",
   "execution_count": 26,
   "id": "c37e5201-6f37-43aa-b9fe-32d66ef2d8ce",
   "metadata": {},
   "outputs": [
    {
     "data": {
      "text/plain": [
       "<psycopg.Cursor [COMMAND_OK] [INTRANS] (host=localhost user=sunsin database=sunsindb) at 0x7f82535d8f60>"
      ]
     },
     "execution_count": 26,
     "metadata": {},
     "output_type": "execute_result"
    }
   ],
   "source": [
    "cursor.execute(\n",
    "    \"INSERT INTO lunch_menu (menu_name, member_name, dt) VALUES (%s, %s, %s);\",\n",
    "    ('테스트음식', '테스트맴버','2000-11-11')\n",
    ")"
   ]
  },
  {
   "cell_type": "code",
   "execution_count": 27,
   "id": "9d8f2d07-e330-4011-a1de-dac1627bf660",
   "metadata": {},
   "outputs": [],
   "source": [
    "conn.commit()"
   ]
  },
  {
   "cell_type": "code",
   "execution_count": 28,
   "id": "e4be3793-9cc0-4f45-a008-c5556d0283d3",
   "metadata": {},
   "outputs": [],
   "source": [
    "cursor.close()"
   ]
  },
  {
   "cell_type": "code",
   "execution_count": null,
   "id": "28be43c8-8990-495b-b0fb-b088c1e53f57",
   "metadata": {},
   "outputs": [],
   "source": []
  }
 ],
 "metadata": {
  "kernelspec": {
   "display_name": "Python 3 (ipykernel)",
   "language": "python",
   "name": "python3"
  },
  "language_info": {
   "codemirror_mode": {
    "name": "ipython",
    "version": 3
   },
   "file_extension": ".py",
   "mimetype": "text/x-python",
   "name": "python",
   "nbconvert_exporter": "python",
   "pygments_lexer": "ipython3",
   "version": "3.10.12"
  }
 },
 "nbformat": 4,
 "nbformat_minor": 5
}
