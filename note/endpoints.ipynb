{
 "cells": [
  {
   "cell_type": "code",
   "execution_count": 171,
   "id": "9944c7c4-3b68-4f51-95f9-45295bf2edc0",
   "metadata": {},
   "outputs": [],
   "source": [
    "import pandas as pd\n",
    "import requests\n",
    "\n",
    "ep = \"https://raw.githubusercontent.com/stundrg/nextjs-fastapi-starter/refs/heads/main/endpoints.json\""
   ]
  },
  {
   "cell_type": "code",
   "execution_count": 172,
   "id": "c8f162f6-95dd-4972-9aee-30cc53851942",
   "metadata": {},
   "outputs": [],
   "source": [
    "res = requests.get(ep)"
   ]
  },
  {
   "cell_type": "code",
   "execution_count": 143,
   "id": "da80abda-4cd5-4028-947a-f79aa7435264",
   "metadata": {},
   "outputs": [],
   "source": [
    "# res.status_code"
   ]
  },
  {
   "cell_type": "code",
   "execution_count": 144,
   "id": "54452e8a-9220-438e-9d14-5cafb226a87a",
   "metadata": {},
   "outputs": [],
   "source": [
    "# res.encoding"
   ]
  },
  {
   "cell_type": "code",
   "execution_count": 145,
   "id": "2436211f-9812-46ef-83d7-07f5c8b8a87b",
   "metadata": {},
   "outputs": [],
   "source": [
    "# res.text"
   ]
  },
  {
   "cell_type": "code",
   "execution_count": 173,
   "id": "9c290bca-e626-400e-b242-028c96ea1b11",
   "metadata": {},
   "outputs": [],
   "source": [
    "data = res.json()"
   ]
  },
  {
   "cell_type": "code",
   "execution_count": 174,
   "id": "4dc7b312-6974-413a-8846-2bf91a9d0ce3",
   "metadata": {},
   "outputs": [
    {
     "data": {
      "text/plain": [
       "dict"
      ]
     },
     "execution_count": 174,
     "metadata": {},
     "output_type": "execute_result"
    }
   ],
   "source": [
    "type(data)"
   ]
  },
  {
   "cell_type": "code",
   "execution_count": 175,
   "id": "dd04deb9-a02f-4326-842d-eea9d89dc837",
   "metadata": {},
   "outputs": [
    {
     "data": {
      "text/plain": [
       "[{'name': 'TOM', 'url': 'https://ac.sunsin.shop/api/py/select_all'},\n",
       " {'name': 'jiwon', 'url': 'https://agecal.wodan10.shop/api/py/select_all'},\n",
       " {'name': 'heejin', 'url': 'https://age.journeyjean.shop/api/py/select_all'},\n",
       " {'name': 'hyun',\n",
       "  'url': 'https://agecalculator.calcalhan.store/api/py/select_all'},\n",
       " {'name': 'cho',\n",
       "  'url': 'https://nextjs-fastapi-starter-5j3bemub7-chominkyus-projects.vercel.app/api/py/select_all'},\n",
       " {'name': 'jacob', 'url': 'https://jacob0503.vercel.app/api/py/select_table'},\n",
       " {'name': 'nuni', 'url': 'https://ac.nunininu.shop/api/py/select_all'},\n",
       " {'name': 'lucas', 'url': 'https://ac.lucas12.store/api/py/select_all'},\n",
       " {'name': 'SEO', 'url': 'https://ac.seo-sigma.shop/api/py/select_all'},\n",
       " {'name': 'JERRY', 'url': 'https://jooon.vercel.app/api/py/select_all'}]"
      ]
     },
     "execution_count": 175,
     "metadata": {},
     "output_type": "execute_result"
    }
   ],
   "source": [
    "data['endpoints']"
   ]
  },
  {
   "cell_type": "code",
   "execution_count": 176,
   "id": "921ffaba-799c-430f-9489-9b26b7c40c27",
   "metadata": {},
   "outputs": [
    {
     "data": {
      "text/plain": [
       "list"
      ]
     },
     "execution_count": 176,
     "metadata": {},
     "output_type": "execute_result"
    }
   ],
   "source": [
    "endpoints = data['endpoints']\n",
    "type(endpoints)"
   ]
  },
  {
   "cell_type": "code",
   "execution_count": 177,
   "id": "0f6b28e5-2551-4971-82d9-b480b57edc09",
   "metadata": {},
   "outputs": [
    {
     "name": "stdout",
     "output_type": "stream",
     "text": [
      "TOM,https://ac.sunsin.shop/api/py/select_all\n",
      "jiwon,https://agecal.wodan10.shop/api/py/select_all\n",
      "heejin,https://age.journeyjean.shop/api/py/select_all\n",
      "hyun,https://agecalculator.calcalhan.store/api/py/select_all\n",
      "cho,https://nextjs-fastapi-starter-5j3bemub7-chominkyus-projects.vercel.app/api/py/select_all\n",
      "jacob,https://jacob0503.vercel.app/api/py/select_table\n",
      "nuni,https://ac.nunininu.shop/api/py/select_all\n",
      "lucas,https://ac.lucas12.store/api/py/select_all\n",
      "SEO,https://ac.seo-sigma.shop/api/py/select_all\n",
      "JERRY,https://jooon.vercel.app/api/py/select_all\n"
     ]
    }
   ],
   "source": [
    "for p in endpoints:\n",
    "    print(f'{p[\"name\"]},{p[\"url\"]}')"
   ]
  },
  {
   "cell_type": "code",
   "execution_count": 178,
   "id": "73867a19-31db-4c96-b58e-b3a580ac378b",
   "metadata": {},
   "outputs": [
    {
     "data": {
      "text/html": [
       "<div>\n",
       "<style scoped>\n",
       "    .dataframe tbody tr th:only-of-type {\n",
       "        vertical-align: middle;\n",
       "    }\n",
       "\n",
       "    .dataframe tbody tr th {\n",
       "        vertical-align: top;\n",
       "    }\n",
       "\n",
       "    .dataframe thead th {\n",
       "        text-align: right;\n",
       "    }\n",
       "</style>\n",
       "<table border=\"1\" class=\"dataframe\">\n",
       "  <thead>\n",
       "    <tr style=\"text-align: right;\">\n",
       "      <th></th>\n",
       "      <th>menu_name</th>\n",
       "      <th>name</th>\n",
       "      <th>dt</th>\n",
       "    </tr>\n",
       "  </thead>\n",
       "  <tbody>\n",
       "    <tr>\n",
       "      <th>0</th>\n",
       "      <td>햄버거</td>\n",
       "      <td>hyun</td>\n",
       "      <td>2025-01-01</td>\n",
       "    </tr>\n",
       "  </tbody>\n",
       "</table>\n",
       "</div>"
      ],
      "text/plain": [
       "  menu_name  name          dt\n",
       "0       햄버거  hyun  2025-01-01"
      ]
     },
     "execution_count": 178,
     "metadata": {},
     "output_type": "execute_result"
    }
   ],
   "source": [
    "# df_hyun = \n",
    "# df_jerry = \n",
    "res = requests.get(\"https://agecalculator.calcalhan.store/api/py/select_all\")\n",
    "#res.status.code\n",
    "data = res.json()\n",
    "df_hyun = pd.DataFrame(data)\n",
    "df_hyun.head(1)"
   ]
  },
  {
   "cell_type": "code",
   "execution_count": 179,
   "id": "1dc703ce-cd6d-4e41-878f-ed1d20e2ddbb",
   "metadata": {},
   "outputs": [
    {
     "ename": "IndentationError",
     "evalue": "expected an indented block after 'if' statement on line 11 (4009239613.py, line 12)",
     "output_type": "error",
     "traceback": [
      "\u001b[0;36m  Cell \u001b[0;32mIn[179], line 12\u001b[0;36m\u001b[0m\n\u001b[0;31m    print(row)\u001b[0m\n\u001b[0m    ^\u001b[0m\n\u001b[0;31mIndentationError\u001b[0m\u001b[0;31m:\u001b[0m expected an indented block after 'if' statement on line 11\n"
     ]
    }
   ],
   "source": [
    "# 나의 df에 없는 row를 골라서 새로운 df으로 만들기\n",
    "new_rows = []\n",
    "\n",
    "# df_jerry의 각 행을 돌면서\n",
    "for _, row_j in df_jerry.iterrows():\n",
    "    is_match_row = True\n",
    "    # df_jerry의 각 열에 대해 df_hyun과 비교\n",
    "    for _, row_h in df_hyun.iterrows():\n",
    "        is_match_columns = True\n",
    "        for c_name in df_hyun.columns:\n",
    "            if row_j[c_name] != row_h[c_name]:\n",
    "            print(row)\n",
    "\n",
    "    if not is_match_row:\n",
    "        new_rows.apeend(row)\n",
    "\n",
    "df_new = pd.DataFrame(new_rows)"
   ]
  },
  {
   "cell_type": "code",
   "execution_count": 153,
   "id": "34fb99d5-595f-4c70-9b3d-9b469d275036",
   "metadata": {},
   "outputs": [],
   "source": [
    "import pandas as pd\n",
    "\n",
    "df1 = pd.DataFrame({\"id\": [1, 2, 3], \"name\": [\"KIM\", \"MIN\", \"LEE\"]})\n",
    "df2 = pd.DataFrame({\"id\": [2, 3, 4], \"name\": [\"MIN\", \"LEE\", \"PARK\"]})"
   ]
  },
  {
   "cell_type": "code",
   "execution_count": 190,
   "id": "55a1c11f-5f09-4bde-9900-58cdffca9cae",
   "metadata": {
    "scrolled": true
   },
   "outputs": [
    {
     "data": {
      "text/html": [
       "<div>\n",
       "<style scoped>\n",
       "    .dataframe tbody tr th:only-of-type {\n",
       "        vertical-align: middle;\n",
       "    }\n",
       "\n",
       "    .dataframe tbody tr th {\n",
       "        vertical-align: top;\n",
       "    }\n",
       "\n",
       "    .dataframe thead th {\n",
       "        text-align: right;\n",
       "    }\n",
       "</style>\n",
       "<table border=\"1\" class=\"dataframe\">\n",
       "  <thead>\n",
       "    <tr style=\"text-align: right;\">\n",
       "      <th></th>\n",
       "      <th>menu_name</th>\n",
       "      <th>name</th>\n",
       "      <th>dt</th>\n",
       "    </tr>\n",
       "  </thead>\n",
       "  <tbody>\n",
       "    <tr>\n",
       "      <th>0</th>\n",
       "      <td>베이컨토마토디럭스세트</td>\n",
       "      <td>JERRY</td>\n",
       "      <td>2025-02-06</td>\n",
       "    </tr>\n",
       "    <tr>\n",
       "      <th>2</th>\n",
       "      <td>닭개장</td>\n",
       "      <td>CHO</td>\n",
       "      <td>2025-01-07</td>\n",
       "    </tr>\n",
       "    <tr>\n",
       "      <th>3</th>\n",
       "      <td>닭개장(특) , 꽈배기</td>\n",
       "      <td>HYUN</td>\n",
       "      <td>2025-01-07</td>\n",
       "    </tr>\n",
       "    <tr>\n",
       "      <th>6</th>\n",
       "      <td>닭개장</td>\n",
       "      <td>JIWON</td>\n",
       "      <td>2025-01-07</td>\n",
       "    </tr>\n",
       "    <tr>\n",
       "      <th>7</th>\n",
       "      <td>자장면</td>\n",
       "      <td>JACOB</td>\n",
       "      <td>2025-01-07</td>\n",
       "    </tr>\n",
       "    <tr>\n",
       "      <th>...</th>\n",
       "      <td>...</td>\n",
       "      <td>...</td>\n",
       "      <td>...</td>\n",
       "    </tr>\n",
       "    <tr>\n",
       "      <th>140</th>\n",
       "      <td>김치 찌개</td>\n",
       "      <td>JACOB</td>\n",
       "      <td>2025-02-03</td>\n",
       "    </tr>\n",
       "    <tr>\n",
       "      <th>141</th>\n",
       "      <td>샌드위치</td>\n",
       "      <td>HEEJIN</td>\n",
       "      <td>2025-02-03</td>\n",
       "    </tr>\n",
       "    <tr>\n",
       "      <th>142</th>\n",
       "      <td>제육볶음</td>\n",
       "      <td>LUCAS</td>\n",
       "      <td>2025-02-03</td>\n",
       "    </tr>\n",
       "    <tr>\n",
       "      <th>143</th>\n",
       "      <td>제육볶음</td>\n",
       "      <td>NUNI</td>\n",
       "      <td>2025-02-03</td>\n",
       "    </tr>\n",
       "    <tr>\n",
       "      <th>144</th>\n",
       "      <td>라면</td>\n",
       "      <td>JERRY</td>\n",
       "      <td>2025-02-09</td>\n",
       "    </tr>\n",
       "  </tbody>\n",
       "</table>\n",
       "<p>103 rows × 3 columns</p>\n",
       "</div>"
      ],
      "text/plain": [
       "        menu_name    name          dt\n",
       "0     베이컨토마토디럭스세트   JERRY  2025-02-06\n",
       "2             닭개장     CHO  2025-01-07\n",
       "3    닭개장(특) , 꽈배기    HYUN  2025-01-07\n",
       "6             닭개장   JIWON  2025-01-07\n",
       "7             자장면   JACOB  2025-01-07\n",
       "..            ...     ...         ...\n",
       "140         김치 찌개   JACOB  2025-02-03\n",
       "141          샌드위치  HEEJIN  2025-02-03\n",
       "142          제육볶음   LUCAS  2025-02-03\n",
       "143          제육볶음    NUNI  2025-02-03\n",
       "144            라면   JERRY  2025-02-09\n",
       "\n",
       "[103 rows x 3 columns]"
      ]
     },
     "execution_count": 190,
     "metadata": {},
     "output_type": "execute_result"
    }
   ],
   "source": [
    "new_rows = []\n",
    "\n",
    "for _, row_3 in df_jerry.iterrows():\n",
    "    is_match_row = False\n",
    "    for _, row_1 in df_hyun.iterrows():\n",
    "        is_match_columns = True\n",
    "        for c_name in df_jerry.columns:\n",
    "            if row_3[c_name] != row_1[c_name]:\n",
    "                is_match_columns = False\n",
    "                break\n",
    "        if is_match_columns:\n",
    "            is_match_row = True\n",
    "    if is_match_row:\n",
    "        pass\n",
    "    else:\n",
    "        new_rows.append(row_3)\n",
    "\n",
    "df_diff_2 = pd.DataFrame(new_rows)\n",
    "df_diff_2"
   ]
  },
  {
   "cell_type": "code",
   "execution_count": 155,
   "id": "b304a55f-4ad2-4580-91bc-7730e816cbae",
   "metadata": {},
   "outputs": [],
   "source": [
    "merge_df = pd.merge(df1, df3, how='right',indicator=True)"
   ]
  },
  {
   "cell_type": "code",
   "execution_count": 156,
   "id": "4ad64f2c-08ae-49d7-848f-cddecbee0c54",
   "metadata": {},
   "outputs": [
    {
     "data": {
      "text/html": [
       "<div>\n",
       "<style scoped>\n",
       "    .dataframe tbody tr th:only-of-type {\n",
       "        vertical-align: middle;\n",
       "    }\n",
       "\n",
       "    .dataframe tbody tr th {\n",
       "        vertical-align: top;\n",
       "    }\n",
       "\n",
       "    .dataframe thead th {\n",
       "        text-align: right;\n",
       "    }\n",
       "</style>\n",
       "<table border=\"1\" class=\"dataframe\">\n",
       "  <thead>\n",
       "    <tr style=\"text-align: right;\">\n",
       "      <th></th>\n",
       "      <th>id</th>\n",
       "      <th>name</th>\n",
       "      <th>_merge</th>\n",
       "    </tr>\n",
       "  </thead>\n",
       "  <tbody>\n",
       "    <tr>\n",
       "      <th>0</th>\n",
       "      <td>5</td>\n",
       "      <td>TOM</td>\n",
       "      <td>right_only</td>\n",
       "    </tr>\n",
       "    <tr>\n",
       "      <th>1</th>\n",
       "      <td>4</td>\n",
       "      <td>PARK</td>\n",
       "      <td>right_only</td>\n",
       "    </tr>\n",
       "    <tr>\n",
       "      <th>2</th>\n",
       "      <td>2</td>\n",
       "      <td>MIN</td>\n",
       "      <td>both</td>\n",
       "    </tr>\n",
       "    <tr>\n",
       "      <th>3</th>\n",
       "      <td>3</td>\n",
       "      <td>LEE</td>\n",
       "      <td>both</td>\n",
       "    </tr>\n",
       "  </tbody>\n",
       "</table>\n",
       "</div>"
      ],
      "text/plain": [
       "   id  name      _merge\n",
       "0   5   TOM  right_only\n",
       "1   4  PARK  right_only\n",
       "2   2   MIN        both\n",
       "3   3   LEE        both"
      ]
     },
     "execution_count": 156,
     "metadata": {},
     "output_type": "execute_result"
    }
   ],
   "source": [
    "merge_df"
   ]
  },
  {
   "cell_type": "code",
   "execution_count": 157,
   "id": "76d3bf56-ac5a-4b77-8c07-083181abd964",
   "metadata": {},
   "outputs": [
    {
     "data": {
      "text/html": [
       "<div>\n",
       "<style scoped>\n",
       "    .dataframe tbody tr th:only-of-type {\n",
       "        vertical-align: middle;\n",
       "    }\n",
       "\n",
       "    .dataframe tbody tr th {\n",
       "        vertical-align: top;\n",
       "    }\n",
       "\n",
       "    .dataframe thead th {\n",
       "        text-align: right;\n",
       "    }\n",
       "</style>\n",
       "<table border=\"1\" class=\"dataframe\">\n",
       "  <thead>\n",
       "    <tr style=\"text-align: right;\">\n",
       "      <th></th>\n",
       "      <th>id</th>\n",
       "      <th>name</th>\n",
       "    </tr>\n",
       "  </thead>\n",
       "  <tbody>\n",
       "    <tr>\n",
       "      <th>0</th>\n",
       "      <td>5</td>\n",
       "      <td>TOM</td>\n",
       "    </tr>\n",
       "    <tr>\n",
       "      <th>1</th>\n",
       "      <td>4</td>\n",
       "      <td>PARK</td>\n",
       "    </tr>\n",
       "  </tbody>\n",
       "</table>\n",
       "</div>"
      ],
      "text/plain": [
       "   id  name\n",
       "0   5   TOM\n",
       "1   4  PARK"
      ]
     },
     "execution_count": 157,
     "metadata": {},
     "output_type": "execute_result"
    }
   ],
   "source": [
    "df_diff_3 = merge_df[merge_df['_merge'] == 'right_only'].drop('_merge', axis=1)\n",
    "df_diff_3"
   ]
  },
  {
   "cell_type": "code",
   "execution_count": 158,
   "id": "aef146d4-c849-4d53-9937-3d7f8bf5df92",
   "metadata": {},
   "outputs": [
    {
     "data": {
      "text/html": [
       "<div>\n",
       "<style scoped>\n",
       "    .dataframe tbody tr th:only-of-type {\n",
       "        vertical-align: middle;\n",
       "    }\n",
       "\n",
       "    .dataframe tbody tr th {\n",
       "        vertical-align: top;\n",
       "    }\n",
       "\n",
       "    .dataframe thead th {\n",
       "        text-align: right;\n",
       "    }\n",
       "</style>\n",
       "<table border=\"1\" class=\"dataframe\">\n",
       "  <thead>\n",
       "    <tr style=\"text-align: right;\">\n",
       "      <th></th>\n",
       "      <th>id</th>\n",
       "      <th>name</th>\n",
       "    </tr>\n",
       "  </thead>\n",
       "  <tbody>\n",
       "    <tr>\n",
       "      <th>0</th>\n",
       "      <td>5</td>\n",
       "      <td>TOM</td>\n",
       "    </tr>\n",
       "    <tr>\n",
       "      <th>1</th>\n",
       "      <td>4</td>\n",
       "      <td>PARK</td>\n",
       "    </tr>\n",
       "  </tbody>\n",
       "</table>\n",
       "</div>"
      ],
      "text/plain": [
       "   id  name\n",
       "0   5   TOM\n",
       "1   4  PARK"
      ]
     },
     "execution_count": 158,
     "metadata": {},
     "output_type": "execute_result"
    }
   ],
   "source": [
    "# _merge == right_only 만 남기고\n",
    "merge_df_filtered = merge_df[merge_df['_merge'] == 'right_only'].drop('_merge', axis=1)\n",
    "# _merge 컬럼은 지우고\n",
    "# merge_df_filtered = merge_df_filtered.drop(columns=['_merge'])\n",
    "\n",
    "\n",
    "merge_df_filtered"
   ]
  },
  {
   "cell_type": "code",
   "execution_count": 159,
   "id": "b0c183f9-443b-459d-9341-6523275da6b2",
   "metadata": {},
   "outputs": [],
   "source": [
    "import pandas as pd\n",
    "\n",
    "df1 = pd.DataFrame({\"id\": [1, 2, 3], \"name\": [\"KIM\", \"MIN\", \"LEE\"]})\n",
    "df2 = pd.DataFrame({\"id\": [2, 3, 4], \"name\": [\"MIN\", \"LEE\", \"PARK\"]})"
   ]
  },
  {
   "cell_type": "code",
   "execution_count": 183,
   "id": "f44aa4a6-5729-46be-b17a-6ff9ebeaa3a5",
   "metadata": {},
   "outputs": [
    {
     "data": {
      "text/html": [
       "<div>\n",
       "<style scoped>\n",
       "    .dataframe tbody tr th:only-of-type {\n",
       "        vertical-align: middle;\n",
       "    }\n",
       "\n",
       "    .dataframe tbody tr th {\n",
       "        vertical-align: top;\n",
       "    }\n",
       "\n",
       "    .dataframe thead th {\n",
       "        text-align: right;\n",
       "    }\n",
       "</style>\n",
       "<table border=\"1\" class=\"dataframe\">\n",
       "  <thead>\n",
       "    <tr style=\"text-align: right;\">\n",
       "      <th></th>\n",
       "      <th>menu_name</th>\n",
       "      <th>name</th>\n",
       "      <th>dt</th>\n",
       "    </tr>\n",
       "  </thead>\n",
       "  <tbody>\n",
       "    <tr>\n",
       "      <th>0</th>\n",
       "      <td>베이컨토마토디럭스세트</td>\n",
       "      <td>JERRY</td>\n",
       "      <td>2025-02-06</td>\n",
       "    </tr>\n",
       "    <tr>\n",
       "      <th>1</th>\n",
       "      <td>닭개장</td>\n",
       "      <td>CHO</td>\n",
       "      <td>2025-01-07</td>\n",
       "    </tr>\n",
       "    <tr>\n",
       "      <th>2</th>\n",
       "      <td>닭개장(특) , 꽈배기</td>\n",
       "      <td>HYUN</td>\n",
       "      <td>2025-01-07</td>\n",
       "    </tr>\n",
       "    <tr>\n",
       "      <th>3</th>\n",
       "      <td>닭개장</td>\n",
       "      <td>JIWON</td>\n",
       "      <td>2025-01-07</td>\n",
       "    </tr>\n",
       "    <tr>\n",
       "      <th>4</th>\n",
       "      <td>자장면</td>\n",
       "      <td>JACOB</td>\n",
       "      <td>2025-01-07</td>\n",
       "    </tr>\n",
       "    <tr>\n",
       "      <th>...</th>\n",
       "      <td>...</td>\n",
       "      <td>...</td>\n",
       "      <td>...</td>\n",
       "    </tr>\n",
       "    <tr>\n",
       "      <th>98</th>\n",
       "      <td>김치 찌개</td>\n",
       "      <td>JACOB</td>\n",
       "      <td>2025-02-03</td>\n",
       "    </tr>\n",
       "    <tr>\n",
       "      <th>99</th>\n",
       "      <td>샌드위치</td>\n",
       "      <td>HEEJIN</td>\n",
       "      <td>2025-02-03</td>\n",
       "    </tr>\n",
       "    <tr>\n",
       "      <th>100</th>\n",
       "      <td>제육볶음</td>\n",
       "      <td>LUCAS</td>\n",
       "      <td>2025-02-03</td>\n",
       "    </tr>\n",
       "    <tr>\n",
       "      <th>101</th>\n",
       "      <td>제육볶음</td>\n",
       "      <td>NUNI</td>\n",
       "      <td>2025-02-03</td>\n",
       "    </tr>\n",
       "    <tr>\n",
       "      <th>102</th>\n",
       "      <td>라면</td>\n",
       "      <td>JERRY</td>\n",
       "      <td>2025-02-09</td>\n",
       "    </tr>\n",
       "  </tbody>\n",
       "</table>\n",
       "<p>103 rows × 3 columns</p>\n",
       "</div>"
      ],
      "text/plain": [
       "        menu_name    name          dt\n",
       "0     베이컨토마토디럭스세트   JERRY  2025-02-06\n",
       "1             닭개장     CHO  2025-01-07\n",
       "2    닭개장(특) , 꽈배기    HYUN  2025-01-07\n",
       "3             닭개장   JIWON  2025-01-07\n",
       "4             자장면   JACOB  2025-01-07\n",
       "..            ...     ...         ...\n",
       "98          김치 찌개   JACOB  2025-02-03\n",
       "99           샌드위치  HEEJIN  2025-02-03\n",
       "100          제육볶음   LUCAS  2025-02-03\n",
       "101          제육볶음    NUNI  2025-02-03\n",
       "102            라면   JERRY  2025-02-09\n",
       "\n",
       "[103 rows x 3 columns]"
      ]
     },
     "execution_count": 183,
     "metadata": {},
     "output_type": "execute_result"
    }
   ],
   "source": [
    "from pandasql import sqldf\n",
    "query = \"\"\"\n",
    "select \n",
    "\tdf_jerry.menu_name, df_jerry.name, df_jerry.dt\n",
    "from \n",
    "\tdf_jerry \n",
    "left join \n",
    "\tdf_hyun \n",
    "on df_jerry.menu_name = df_hyun.menu_name AND df_jerry.name = df_hyun.name AND df_jerry.dt = df_hyun.dt\n",
    "where df_hyun.menu_name is null\n",
    "\"\"\"\n",
    "\n",
    "pysqldf = lambda q: sqldf(q,globals())\n",
    "\n",
    "def pysqldf(q):\n",
    "    sqldf(q, locals())\n",
    "df_diff_1 =sqldf(query,locals())\n",
    "df_diff_1"
   ]
  },
  {
   "cell_type": "code",
   "execution_count": 161,
   "id": "fd53c302-8323-450c-9d85-47c472d0c010",
   "metadata": {},
   "outputs": [],
   "source": [
    "import pandasql as sqldf"
   ]
  },
  {
   "cell_type": "code",
   "execution_count": 162,
   "id": "a0b9232f-f1ab-4851-850e-baea05c694bd",
   "metadata": {},
   "outputs": [],
   "source": [
    "## TODO\n",
    "# df_diff_1, df_diff_2, df_diff_3"
   ]
  },
  {
   "cell_type": "code",
   "execution_count": 163,
   "id": "f3db85a8-0145-4804-8c3d-e537c0107180",
   "metadata": {},
   "outputs": [
    {
     "data": {
      "text/html": [
       "<div>\n",
       "<style scoped>\n",
       "    .dataframe tbody tr th:only-of-type {\n",
       "        vertical-align: middle;\n",
       "    }\n",
       "\n",
       "    .dataframe tbody tr th {\n",
       "        vertical-align: top;\n",
       "    }\n",
       "\n",
       "    .dataframe thead th {\n",
       "        text-align: right;\n",
       "    }\n",
       "</style>\n",
       "<table border=\"1\" class=\"dataframe\">\n",
       "  <thead>\n",
       "    <tr style=\"text-align: right;\">\n",
       "      <th></th>\n",
       "      <th>id</th>\n",
       "      <th>name</th>\n",
       "    </tr>\n",
       "  </thead>\n",
       "  <tbody>\n",
       "    <tr>\n",
       "      <th>0</th>\n",
       "      <td>5</td>\n",
       "      <td>TOM</td>\n",
       "    </tr>\n",
       "    <tr>\n",
       "      <th>1</th>\n",
       "      <td>4</td>\n",
       "      <td>PARK</td>\n",
       "    </tr>\n",
       "  </tbody>\n",
       "</table>\n",
       "</div>"
      ],
      "text/plain": [
       "   id  name\n",
       "0   5   TOM\n",
       "1   4  PARK"
      ]
     },
     "execution_count": 163,
     "metadata": {},
     "output_type": "execute_result"
    }
   ],
   "source": [
    "df_diff_1"
   ]
  },
  {
   "cell_type": "code",
   "execution_count": 164,
   "id": "114dd85d-a3da-4501-b2c8-6e6aee007af0",
   "metadata": {},
   "outputs": [
    {
     "data": {
      "text/html": [
       "<div>\n",
       "<style scoped>\n",
       "    .dataframe tbody tr th:only-of-type {\n",
       "        vertical-align: middle;\n",
       "    }\n",
       "\n",
       "    .dataframe tbody tr th {\n",
       "        vertical-align: top;\n",
       "    }\n",
       "\n",
       "    .dataframe thead th {\n",
       "        text-align: right;\n",
       "    }\n",
       "</style>\n",
       "<table border=\"1\" class=\"dataframe\">\n",
       "  <thead>\n",
       "    <tr style=\"text-align: right;\">\n",
       "      <th></th>\n",
       "      <th>id</th>\n",
       "      <th>name</th>\n",
       "    </tr>\n",
       "  </thead>\n",
       "  <tbody>\n",
       "    <tr>\n",
       "      <th>0</th>\n",
       "      <td>5</td>\n",
       "      <td>TOM</td>\n",
       "    </tr>\n",
       "    <tr>\n",
       "      <th>1</th>\n",
       "      <td>4</td>\n",
       "      <td>PARK</td>\n",
       "    </tr>\n",
       "  </tbody>\n",
       "</table>\n",
       "</div>"
      ],
      "text/plain": [
       "   id  name\n",
       "0   5   TOM\n",
       "1   4  PARK"
      ]
     },
     "execution_count": 164,
     "metadata": {},
     "output_type": "execute_result"
    }
   ],
   "source": [
    "df_diff_2"
   ]
  },
  {
   "cell_type": "code",
   "execution_count": 165,
   "id": "114d710c-75ee-415b-bcb5-4de3fff607d5",
   "metadata": {},
   "outputs": [
    {
     "data": {
      "text/html": [
       "<div>\n",
       "<style scoped>\n",
       "    .dataframe tbody tr th:only-of-type {\n",
       "        vertical-align: middle;\n",
       "    }\n",
       "\n",
       "    .dataframe tbody tr th {\n",
       "        vertical-align: top;\n",
       "    }\n",
       "\n",
       "    .dataframe thead th {\n",
       "        text-align: right;\n",
       "    }\n",
       "</style>\n",
       "<table border=\"1\" class=\"dataframe\">\n",
       "  <thead>\n",
       "    <tr style=\"text-align: right;\">\n",
       "      <th></th>\n",
       "      <th>id</th>\n",
       "      <th>name</th>\n",
       "    </tr>\n",
       "  </thead>\n",
       "  <tbody>\n",
       "    <tr>\n",
       "      <th>0</th>\n",
       "      <td>5</td>\n",
       "      <td>TOM</td>\n",
       "    </tr>\n",
       "    <tr>\n",
       "      <th>1</th>\n",
       "      <td>4</td>\n",
       "      <td>PARK</td>\n",
       "    </tr>\n",
       "  </tbody>\n",
       "</table>\n",
       "</div>"
      ],
      "text/plain": [
       "   id  name\n",
       "0   5   TOM\n",
       "1   4  PARK"
      ]
     },
     "execution_count": 165,
     "metadata": {},
     "output_type": "execute_result"
    }
   ],
   "source": [
    "df_diff_3"
   ]
  },
  {
   "cell_type": "code",
   "execution_count": 167,
   "id": "e4946357-68cc-4846-91f8-8f1aa8496962",
   "metadata": {},
   "outputs": [
    {
     "data": {
      "text/plain": [
       "True"
      ]
     },
     "execution_count": 167,
     "metadata": {},
     "output_type": "execute_result"
    }
   ],
   "source": [
    "df_diff_1.reset_index(drop=True).equals(df_diff_2.reset_index(drop=True))"
   ]
  },
  {
   "cell_type": "code",
   "execution_count": 168,
   "id": "1bcc5935-c8a5-46f5-9211-82d62fdc985e",
   "metadata": {},
   "outputs": [
    {
     "data": {
      "text/plain": [
       "True"
      ]
     },
     "execution_count": 168,
     "metadata": {},
     "output_type": "execute_result"
    }
   ],
   "source": [
    "df_diff_1.reset_index(drop=True).equals(df_diff_3.reset_index(drop=True))"
   ]
  },
  {
   "cell_type": "code",
   "execution_count": 169,
   "id": "ee615b9f-e8d8-48a5-861d-18014f234ca6",
   "metadata": {},
   "outputs": [
    {
     "data": {
      "text/html": [
       "<div>\n",
       "<style scoped>\n",
       "    .dataframe tbody tr th:only-of-type {\n",
       "        vertical-align: middle;\n",
       "    }\n",
       "\n",
       "    .dataframe tbody tr th {\n",
       "        vertical-align: top;\n",
       "    }\n",
       "\n",
       "    .dataframe thead th {\n",
       "        text-align: right;\n",
       "    }\n",
       "</style>\n",
       "<table border=\"1\" class=\"dataframe\">\n",
       "  <thead>\n",
       "    <tr style=\"text-align: right;\">\n",
       "      <th></th>\n",
       "      <th>id</th>\n",
       "      <th>name</th>\n",
       "    </tr>\n",
       "  </thead>\n",
       "  <tbody>\n",
       "    <tr>\n",
       "      <th>0</th>\n",
       "      <td>5</td>\n",
       "      <td>TOM</td>\n",
       "    </tr>\n",
       "    <tr>\n",
       "      <th>1</th>\n",
       "      <td>4</td>\n",
       "      <td>PARK</td>\n",
       "    </tr>\n",
       "  </tbody>\n",
       "</table>\n",
       "</div>"
      ],
      "text/plain": [
       "   id  name\n",
       "0   5   TOM\n",
       "1   4  PARK"
      ]
     },
     "execution_count": 169,
     "metadata": {},
     "output_type": "execute_result"
    }
   ],
   "source": [
    "df_diff_1.reset_index(drop=True)"
   ]
  },
  {
   "cell_type": "code",
   "execution_count": 170,
   "id": "5f54a6b2-6031-4fa6-8706-f5cdc055244a",
   "metadata": {},
   "outputs": [
    {
     "data": {
      "text/html": [
       "<div>\n",
       "<style scoped>\n",
       "    .dataframe tbody tr th:only-of-type {\n",
       "        vertical-align: middle;\n",
       "    }\n",
       "\n",
       "    .dataframe tbody tr th {\n",
       "        vertical-align: top;\n",
       "    }\n",
       "\n",
       "    .dataframe thead th {\n",
       "        text-align: right;\n",
       "    }\n",
       "</style>\n",
       "<table border=\"1\" class=\"dataframe\">\n",
       "  <thead>\n",
       "    <tr style=\"text-align: right;\">\n",
       "      <th></th>\n",
       "      <th>id</th>\n",
       "      <th>name</th>\n",
       "    </tr>\n",
       "  </thead>\n",
       "  <tbody>\n",
       "    <tr>\n",
       "      <th>0</th>\n",
       "      <td>5</td>\n",
       "      <td>TOM</td>\n",
       "    </tr>\n",
       "    <tr>\n",
       "      <th>1</th>\n",
       "      <td>4</td>\n",
       "      <td>PARK</td>\n",
       "    </tr>\n",
       "  </tbody>\n",
       "</table>\n",
       "</div>"
      ],
      "text/plain": [
       "   id  name\n",
       "0   5   TOM\n",
       "1   4  PARK"
      ]
     },
     "execution_count": 170,
     "metadata": {},
     "output_type": "execute_result"
    }
   ],
   "source": [
    "df_diff_3.reset_index(drop=True)"
   ]
  },
  {
   "cell_type": "code",
   "execution_count": 166,
   "id": "26dc7e1f-6aac-434b-8ff9-d2ada5582965",
   "metadata": {},
   "outputs": [],
   "source": [
    "df1 = pd.DataFrame({\"id\": [1, 2, 3], \"name\": [\"KIM\", \"MIN\", \"LEE\"]})\n",
    "df2 = pd.DataFrame({\"id\": [2, 3, 4, 5], \"name\": [\"MIN\", \"LEE\", \"PARK\", \"TOM\"]})\n",
    "df3 = pd.DataFrame({\"id\": [5, 4, 2, 3], \"name\": [\"TOM\", \"PARK\",\"MIN\", \"LEE\"]})"
   ]
  },
  {
   "cell_type": "code",
   "execution_count": 184,
   "id": "c0350cad-355f-4cf9-b4f9-b096daa5552f",
   "metadata": {},
   "outputs": [
    {
     "data": {
      "text/plain": [
       "['id', 'name']"
      ]
     },
     "execution_count": 184,
     "metadata": {},
     "output_type": "execute_result"
    }
   ],
   "source": [
    "df_diff_3.columns.tolist()"
   ]
  },
  {
   "cell_type": "code",
   "execution_count": null,
   "id": "69787b4b-0c16-4116-9d49-e4c2b9fb8fbb",
   "metadata": {},
   "outputs": [],
   "source": [
    "d3 = df_new.sort_values("
   ]
  },
  {
   "cell_type": "code",
   "execution_count": null,
   "id": "b467fed7-22d1-4033-9aba-09924d9b7a3b",
   "metadata": {},
   "outputs": [],
   "source": []
  }
 ],
 "metadata": {
  "kernelspec": {
   "display_name": "Python 3 (ipykernel)",
   "language": "python",
   "name": "python3"
  },
  "language_info": {
   "codemirror_mode": {
    "name": "ipython",
    "version": 3
   },
   "file_extension": ".py",
   "mimetype": "text/x-python",
   "name": "python",
   "nbconvert_exporter": "python",
   "pygments_lexer": "ipython3",
   "version": "3.10.12"
  }
 },
 "nbformat": 4,
 "nbformat_minor": 5
}
