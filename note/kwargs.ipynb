{
 "cells": [
  {
   "cell_type": "code",
   "execution_count": 24,
   "id": "135d8fde-c76b-4427-b691-9f8e619b1439",
   "metadata": {},
   "outputs": [],
   "source": [
    "def fun_args(*args):\n",
    "    print(f\"args...{type(args)}\")\n",
    "    for a in args:\n",
    "        print(a)"
   ]
  },
  {
   "cell_type": "code",
   "execution_count": 25,
   "id": "f47f7e67-cb92-4b94-9067-e3c477c7a811",
   "metadata": {},
   "outputs": [
    {
     "name": "stdout",
     "output_type": "stream",
     "text": [
      "args...<class 'tuple'>\n",
      "1\n",
      "2\n",
      "3\n"
     ]
    }
   ],
   "source": [
    "fun_args(1,2,3)"
   ]
  },
  {
   "cell_type": "code",
   "execution_count": 33,
   "id": "42578e86-8775-4580-9dbd-fd819313fc68",
   "metadata": {},
   "outputs": [],
   "source": [
    "DB_CONFIG = {\n",
    "    \"dbname\" : \"sunsindb\",\n",
    "    \"user\" : \"sunsin\",\n",
    "    \"password\" : \"mysecretpassword\",\n",
    "    \"host\" : \"localhost\",\n",
    "    \"port\" : \"5432\"\n",
    "}"
   ]
  },
  {
   "cell_type": "code",
   "execution_count": 34,
   "id": "42354398-92d6-4839-ad9a-5e04e2c294af",
   "metadata": {},
   "outputs": [],
   "source": [
    "def fun_kwargs(**kwargs):\n",
    "    print(f\"kwargs...{type(kwargs)}\")\n",
    "    for k,v in kwargs.items():\n",
    "        print(f\"key:{k}, value:{v}\")"
   ]
  },
  {
   "cell_type": "code",
   "execution_count": 35,
   "id": "067c8f15-ec71-4368-95c2-17b2af3a32f5",
   "metadata": {},
   "outputs": [
    {
     "name": "stdout",
     "output_type": "stream",
     "text": [
      "kwargs...<class 'dict'>\n",
      "key:dbname, value:sunsindb\n",
      "key:user, value:sunsin\n",
      "key:password, value:mysecretpassword\n",
      "key:host, value:localhost\n",
      "key:port, value:5432\n"
     ]
    }
   ],
   "source": [
    "fun_kwargs(**DB_CONFIG)"
   ]
  },
  {
   "cell_type": "code",
   "execution_count": 36,
   "id": "2f6989be-f185-405c-a8e3-bbb3cbca614c",
   "metadata": {},
   "outputs": [
    {
     "name": "stdout",
     "output_type": "stream",
     "text": [
      "kwargs...<class 'dict'>\n",
      "key:dbname, value:sunsindb\n",
      "key:user, value:sunsin\n",
      "key:abc, value:aaa\n"
     ]
    }
   ],
   "source": [
    "fun_kwargs(dbname=\"sunsindb\",user = \"sunsin\", abc = \"aaa\")"
   ]
  },
  {
   "cell_type": "code",
   "execution_count": 43,
   "id": "895b6643-b414-4c54-8cfd-9c241d1aa3e1",
   "metadata": {},
   "outputs": [],
   "source": [
    "def fun_jjamppong(name,*args,**kwargs):\n",
    "    print(f\"jjamppong...{type(name)},{type(args)},{type(kwargs)}\")\n",
    "    # print name\n",
    "    # print args\n",
    "    # print kwargs"
   ]
  },
  {
   "cell_type": "code",
   "execution_count": 45,
   "id": "c85d5587-65a9-4069-9c67-7c0be871782b",
   "metadata": {},
   "outputs": [
    {
     "name": "stdout",
     "output_type": "stream",
     "text": [
      "jjamppong...<class 'int'>,<class 'tuple'>,<class 'dict'>\n"
     ]
    }
   ],
   "source": [
    "fun_jjamppong(1,\"a\",\"B\",MENU = \"A\" ,food = \"b\")"
   ]
  },
  {
   "cell_type": "code",
   "execution_count": 48,
   "id": "3b2e59c9-50aa-4c8f-bb37-0cf82cfc1f03",
   "metadata": {},
   "outputs": [],
   "source": [
    "def fun_g(name, age = 18):\n",
    "    print(name)\n",
    "    print(age)"
   ]
  },
  {
   "cell_type": "code",
   "execution_count": 49,
   "id": "11fcbf5f-e78f-4477-b67a-be67f4f5a295",
   "metadata": {},
   "outputs": [
    {
     "name": "stdout",
     "output_type": "stream",
     "text": [
      "10\n",
      "18\n"
     ]
    }
   ],
   "source": [
    "fun_g(10)"
   ]
  },
  {
   "cell_type": "code",
   "execution_count": 51,
   "id": "917101d5-ecce-41c2-8e47-22df5e09f85d",
   "metadata": {},
   "outputs": [
    {
     "name": "stdout",
     "output_type": "stream",
     "text": [
      "kim\n",
      "11\n"
     ]
    }
   ],
   "source": [
    "fun_g(age=11 , name = \"kim\")"
   ]
  },
  {
   "cell_type": "code",
   "execution_count": 52,
   "id": "ef31db3e-5700-485e-a81d-b7d89caac2f2",
   "metadata": {},
   "outputs": [],
   "source": [
    "def fff(name,port = 5432):\n",
    "    print(name)\n",
    "    print(port)"
   ]
  },
  {
   "cell_type": "code",
   "execution_count": null,
   "id": "cdb93dff-2f99-4562-9e45-ef9df7754693",
   "metadata": {},
   "outputs": [],
   "source": []
  }
 ],
 "metadata": {
  "kernelspec": {
   "display_name": "Python 3 (ipykernel)",
   "language": "python",
   "name": "python3"
  },
  "language_info": {
   "codemirror_mode": {
    "name": "ipython",
    "version": 3
   },
   "file_extension": ".py",
   "mimetype": "text/x-python",
   "name": "python",
   "nbconvert_exporter": "python",
   "pygments_lexer": "ipython3",
   "version": "3.10.12"
  }
 },
 "nbformat": 4,
 "nbformat_minor": 5
}
