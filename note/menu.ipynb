{
 "cells": [
  {
   "cell_type": "code",
   "execution_count": 2,
   "id": "d89ec378-3353-43cc-8ae6-17659471f577",
   "metadata": {},
   "outputs": [],
   "source": [
    "import pandas as pd"
   ]
  },
  {
   "cell_type": "code",
   "execution_count": 3,
   "id": "7f010fde-2324-410c-9d93-c97a4920d8f1",
   "metadata": {},
   "outputs": [],
   "source": [
    "df = pd.read_csv('menu.csv')"
   ]
  },
  {
   "cell_type": "code",
   "execution_count": 4,
   "id": "a8ced7e8-4a2f-4092-b02f-ae96d54c1133",
   "metadata": {},
   "outputs": [
    {
     "data": {
      "text/html": [
       "<div>\n",
       "<style scoped>\n",
       "    .dataframe tbody tr th:only-of-type {\n",
       "        vertical-align: middle;\n",
       "    }\n",
       "\n",
       "    .dataframe tbody tr th {\n",
       "        vertical-align: top;\n",
       "    }\n",
       "\n",
       "    .dataframe thead th {\n",
       "        text-align: right;\n",
       "    }\n",
       "</style>\n",
       "<table border=\"1\" class=\"dataframe\">\n",
       "  <thead>\n",
       "    <tr style=\"text-align: right;\">\n",
       "      <th></th>\n",
       "      <th>ename</th>\n",
       "      <th>gmail</th>\n",
       "      <th>github</th>\n",
       "      <th>domain</th>\n",
       "      <th>vercel</th>\n",
       "      <th>role</th>\n",
       "      <th>2025-01-07</th>\n",
       "      <th>2025-01-08</th>\n",
       "      <th>2025-01-09</th>\n",
       "      <th>2025-01-10</th>\n",
       "      <th>...</th>\n",
       "      <th>2025-01-16</th>\n",
       "      <th>2025-01-17</th>\n",
       "      <th>2025-01-20</th>\n",
       "      <th>2025-01-21</th>\n",
       "      <th>2025-01-22</th>\n",
       "      <th>2025-01-23</th>\n",
       "      <th>2025-01-24</th>\n",
       "      <th>2025-02-03</th>\n",
       "      <th>2025-02-04</th>\n",
       "      <th>2025-02-05</th>\n",
       "    </tr>\n",
       "  </thead>\n",
       "  <tbody>\n",
       "    <tr>\n",
       "      <th>0</th>\n",
       "      <td>TOM</td>\n",
       "      <td>tom@diginori.com</td>\n",
       "      <td>ppabam</td>\n",
       "      <td>sunsin.shop</td>\n",
       "      <td>https://sunsin.vercel.app</td>\n",
       "      <td>PM</td>\n",
       "      <td>순대국</td>\n",
       "      <td>비지찌개</td>\n",
       "      <td>냉동김밥,컵라면</td>\n",
       "      <td>잔치국수</td>\n",
       "      <td>...</td>\n",
       "      <td>오징어 덮밥</td>\n",
       "      <td>짜장면</td>\n",
       "      <td>집밥 도시락</td>\n",
       "      <td>소고기무국</td>\n",
       "      <td>-</td>\n",
       "      <td>오징어덮밥</td>\n",
       "      <td>볶음밥</td>\n",
       "      <td>짜장면</td>\n",
       "      <td>-</td>\n",
       "      <td>-</td>\n",
       "    </tr>\n",
       "    <tr>\n",
       "      <th>1</th>\n",
       "      <td>cho</td>\n",
       "      <td>j01040864205@gmail.com</td>\n",
       "      <td>cho6019</td>\n",
       "      <td>cho6019.store</td>\n",
       "      <td>https://cho6019.vercel.app</td>\n",
       "      <td>행동강령 수립 위원회</td>\n",
       "      <td>닭개장</td>\n",
       "      <td>규동</td>\n",
       "      <td>얼큰 순대국밥</td>\n",
       "      <td>스파게티</td>\n",
       "      <td>...</td>\n",
       "      <td>간짜장</td>\n",
       "      <td>스파게티</td>\n",
       "      <td>버섯 비프 카레</td>\n",
       "      <td>스파게티</td>\n",
       "      <td>설렁탕</td>\n",
       "      <td>치킨마요덮밥</td>\n",
       "      <td>등심돈까스</td>\n",
       "      <td>치즈라면, 김밥</td>\n",
       "      <td>-</td>\n",
       "      <td>-</td>\n",
       "    </tr>\n",
       "  </tbody>\n",
       "</table>\n",
       "<p>2 rows × 23 columns</p>\n",
       "</div>"
      ],
      "text/plain": [
       "  ename                   gmail   github         domain  \\\n",
       "0   TOM        tom@diginori.com   ppabam    sunsin.shop   \n",
       "1   cho  j01040864205@gmail.com  cho6019  cho6019.store   \n",
       "\n",
       "                       vercel         role 2025-01-07 2025-01-08 2025-01-09  \\\n",
       "0   https://sunsin.vercel.app           PM        순대국       비지찌개   냉동김밥,컵라면   \n",
       "1  https://cho6019.vercel.app  행동강령 수립 위원회        닭개장         규동    얼큰 순대국밥   \n",
       "\n",
       "  2025-01-10  ... 2025-01-16 2025-01-17 2025-01-20 2025-01-21 2025-01-22  \\\n",
       "0       잔치국수  ...     오징어 덮밥        짜장면     집밥 도시락      소고기무국          -   \n",
       "1       스파게티  ...        간짜장       스파게티   버섯 비프 카레       스파게티        설렁탕   \n",
       "\n",
       "  2025-01-23 2025-01-24 2025-02-03 2025-02-04 2025-02-05  \n",
       "0      오징어덮밥        볶음밥        짜장면          -          -  \n",
       "1     치킨마요덮밥      등심돈까스   치즈라면, 김밥          -          -  \n",
       "\n",
       "[2 rows x 23 columns]"
      ]
     },
     "execution_count": 4,
     "metadata": {},
     "output_type": "execute_result"
    }
   ],
   "source": [
    "df.head(2)"
   ]
  },
  {
   "cell_type": "code",
   "execution_count": 5,
   "id": "ae11c9f7-66d1-448a-b0b2-fac2c7d328d3",
   "metadata": {},
   "outputs": [],
   "source": [
    "result = df.loc[df['ename'] == 'cho', ['ename', '2025-01-07']] # 1차로 생각한 코드"
   ]
  },
  {
   "cell_type": "code",
   "execution_count": 6,
   "id": "0dfe466e-4bd1-45a9-9398-7779296d8151",
   "metadata": {},
   "outputs": [
    {
     "name": "stdout",
     "output_type": "stream",
     "text": [
      "  ename 2025-01-07\n",
      "1   cho        닭개장\n"
     ]
    }
   ],
   "source": [
    "print(result)"
   ]
  },
  {
   "cell_type": "code",
   "execution_count": 7,
   "id": "960907a5-be52-4271-8586-69434babbf58",
   "metadata": {},
   "outputs": [
    {
     "data": {
      "text/plain": [
       "6"
      ]
     },
     "execution_count": 7,
     "metadata": {},
     "output_type": "execute_result"
    }
   ],
   "source": [
    "df.columns.get_loc('2025-01-07')"
   ]
  },
  {
   "cell_type": "code",
   "execution_count": 8,
   "id": "ad4f0e34-9e2d-4122-813f-8299c2d3fd6d",
   "metadata": {},
   "outputs": [
    {
     "data": {
      "text/plain": [
       "Index(['2025-01-07', '2025-01-08', '2025-01-09', '2025-01-10', '2025-01-13',\n",
       "       '2025-01-14', '2025-01-15', '2025-01-16', '2025-01-17', '2025-01-20',\n",
       "       '2025-01-21', '2025-01-22', '2025-01-23', '2025-01-24', '2025-02-03',\n",
       "       '2025-02-04', '2025-02-05'],\n",
       "      dtype='object')"
      ]
     },
     "execution_count": 8,
     "metadata": {},
     "output_type": "execute_result"
    }
   ],
   "source": [
    "df.columns[6:] # 경국님의 시작 코드"
   ]
  },
  {
   "cell_type": "code",
   "execution_count": 9,
   "id": "8212b0db-cc99-41cc-9255-463514abf417",
   "metadata": {},
   "outputs": [
    {
     "name": "stdout",
     "output_type": "stream",
     "text": [
      "2025-01-07\n",
      "2025-01-08\n",
      "2025-01-09\n",
      "2025-01-10\n",
      "2025-01-13\n",
      "2025-01-14\n",
      "2025-01-15\n",
      "2025-01-16\n",
      "2025-01-17\n",
      "2025-01-20\n",
      "2025-01-21\n",
      "2025-01-22\n",
      "2025-01-23\n",
      "2025-01-24\n",
      "2025-02-03\n",
      "2025-02-04\n",
      "2025-02-05\n"
     ]
    }
   ],
   "source": [
    "for c in df.columns[6:]: # 시작코드 2\n",
    "    print(c)"
   ]
  },
  {
   "cell_type": "code",
   "execution_count": 16,
   "id": "f52a7bc6-c4d4-46d3-815f-f945c8616493",
   "metadata": {},
   "outputs": [
    {
     "name": "stdout",
     "output_type": "stream",
     "text": [
      "TOM 2025-01-07 순대국\n",
      "cho 2025-01-07 닭개장\n",
      "hyun 2025-01-07 닭개장(특) , 꽈배기\n",
      "JERRY 2025-01-07 닭개장\n",
      "SEO 2025-01-07 볶음밥\n",
      "jiwon 2025-01-07 닭개장\n",
      "jacob 2025-01-07 자장면\n",
      "heejin 2025-01-07 덮밥\n",
      "lucas 2025-01-07 볶음밥\n",
      "nuni 2025-01-07 일반 짬뽕 보통\n",
      "TOM 2025-01-08 비지찌개\n",
      "cho 2025-01-08 규동\n",
      "hyun 2025-01-08 주먹밥\n",
      "JERRY 2025-01-08 주먹밥\n",
      "SEO 2025-01-08 유부초밥\n",
      "jiwon 2025-01-08 스키야키\n",
      "jacob 2025-01-08 텐동\n",
      "heejin 2025-01-08 덮밥\n",
      "lucas 2025-01-08 규동\n",
      "nuni 2025-01-08 무공 옛날돈가스\n",
      "TOM 2025-01-09 냉동김밥,컵라면\n",
      "cho 2025-01-09 얼큰 순대국밥\n",
      "hyun 2025-01-09 얼큰 순대국밥\n",
      "JERRY 2025-01-09 얼큰 순대국밥\n",
      "SEO 2025-01-09 볶음밥\n",
      "jiwon 2025-01-09 참깨라면 작은컵,삼각김밥\n",
      "jacob 2025-01-09 얼큰 설렁탕\n",
      "heejin 2025-01-09 설렁탕\n",
      "lucas 2025-01-09 한우 곰탕\n",
      "nuni 2025-01-09 얼큰 설렁탕\n",
      "TOM 2025-01-10 잔치국수\n",
      "cho 2025-01-10 스파게티\n",
      "hyun 2025-01-10 불닭로제찜닭\n",
      "JERRY 2025-01-10 불닭로제찜닭\n",
      "SEO 2025-01-10 볶음밥 , 연어\n",
      "jiwon 2025-01-10 불닭로제찜닭\n",
      "jacob 2025-01-10 부대찌개\n",
      "heejin 2025-01-10 부대찌개\n",
      "lucas 2025-01-10 부대찌개\n",
      "nuni 2025-01-10 부대찌개\n",
      "TOM 2025-01-13 제육덮밥\n",
      "cho 2025-01-13 한솥\n",
      "hyun 2025-01-13 한솥\n",
      "JERRY 2025-01-13 한솥\n",
      "SEO 2025-01-13 연어덮밥\n",
      "jiwon 2025-01-13 -\n",
      "jacob 2025-01-13 참치김치찌개\n",
      "heejin 2025-01-13 김밥\n",
      "lucas 2025-01-13 꽃게 된장찌개\n",
      "nuni 2025-01-13 고기김치찌개,라면세트\n",
      "TOM 2025-01-14 소고기무국\n",
      "cho 2025-01-14 순대국밥 고기만\n",
      "hyun 2025-01-14 순대국밥\n",
      "JERRY 2025-01-14 뼈해장국\n",
      "SEO 2025-01-14 볶음밥\n",
      "jiwon 2025-01-14 -\n",
      "jacob 2025-01-14 한솥\n",
      "heejin 2025-01-14 김밥\n",
      "lucas 2025-01-14 한솥\n",
      "nuni 2025-01-14 한솥\n",
      "TOM 2025-01-15 소고기덮밥\n",
      "cho 2025-01-15 파스타\n",
      "hyun 2025-01-15 까르보나라 파스타\n",
      "JERRY 2025-01-15 모짜렐라 토마토 파스타\n",
      "SEO 2025-01-15 연어덮밥\n",
      "jiwon 2025-01-15 -\n",
      "jacob 2025-01-15 햄 김치찌개\n",
      "heejin 2025-01-15 오므라이스\n",
      "lucas 2025-01-15 생고기김치찌개,라면사리\n",
      "nuni 2025-01-15 순두부찌개\n",
      "TOM 2025-01-16 오징어 덮밥\n",
      "cho 2025-01-16 간짜장\n",
      "hyun 2025-01-16 간짜장 곱빼기\n",
      "JERRY 2025-01-16 짬짜면\n",
      "SEO 2025-01-16 샌드위치\n",
      "jiwon 2025-01-16 짬짜면\n",
      "jacob 2025-01-16 비빔,잔치 국수 반반\n",
      "heejin 2025-01-16 돈까스\n",
      "lucas 2025-01-16 비빔국수 , 반 계란 김밥\n",
      "nuni 2025-01-16 반반국수(비빔&잔치)\n",
      "TOM 2025-01-17 짜장면\n",
      "cho 2025-01-17 스파게티\n",
      "hyun 2025-01-17 참치김밥,라볶이\n",
      "JERRY 2025-01-17 <결석>\n",
      "SEO 2025-01-17 유부초밥\n",
      "jiwon 2025-01-17 떡라면\n",
      "jacob 2025-01-17 안심 돈카츠\n",
      "heejin 2025-01-17 볶음밥 , 컵라면\n",
      "lucas 2025-01-17 안심 돈카츠\n",
      "nuni 2025-01-17 카레 돈카츠 세트\n",
      "TOM 2025-01-20 집밥 도시락\n",
      "cho 2025-01-20 버섯 비프 카레\n",
      "hyun 2025-01-20 Forrk 카레\n",
      "JERRY 2025-01-20 함바그 카레\n",
      "SEO 2025-01-20 유부초밥\n",
      "jiwon 2025-01-20 카레\n",
      "jacob 2025-01-20 백반\n",
      "heejin 2025-01-20 볶음밥\n",
      "lucas 2025-01-20 낙지 볶음\n",
      "nuni 2025-01-20 제육볶음\n",
      "TOM 2025-01-21 소고기무국\n",
      "cho 2025-01-21 스파게티\n",
      "hyun 2025-01-21 고등어구이,제육볶음\n",
      "JERRY 2025-01-21 고등어구이,제육볶음\n",
      "SEO 2025-01-21 고등어구이,제육볶음\n",
      "jiwon 2025-01-21 쉐이크\n",
      "jacob 2025-01-21 얼큰미나리 샤브세트\n",
      "heejin 2025-01-21 얼큰미나리 샤브세트\n",
      "lucas 2025-01-21 얼큰미나리 샤브세트\n",
      "nuni 2025-01-21 x\n",
      "TOM 2025-01-22 -\n",
      "cho 2025-01-22 설렁탕\n",
      "hyun 2025-01-22 육회비빔밥\n",
      "JERRY 2025-01-22 설렁탕\n",
      "SEO 2025-01-22 불고기\n",
      "jiwon 2025-01-22 쉐이크 , 샌드위치\n",
      "jacob 2025-01-22 순두부 찌개\n",
      "heejin 2025-01-22 오므라이스\n",
      "lucas 2025-01-22 햄 김치찌개\n",
      "nuni 2025-01-22 순두부 찌개\n",
      "TOM 2025-01-23 오징어덮밥\n",
      "cho 2025-01-23 치킨마요덮밥\n",
      "hyun 2025-01-23 김치찌개\n",
      "JERRY 2025-01-23 치킨마요,찹쌀탕수육\n",
      "SEO 2025-01-23 닭다리살 간장조림\n",
      "jiwon 2025-01-23 한솥\n",
      "jacob 2025-01-23 육회비빔밥\n",
      "heejin 2025-01-23 김밥\n",
      "lucas 2025-01-23 육회비빔밥\n",
      "nuni 2025-01-23 육회비빔밥\n",
      "TOM 2025-01-24 볶음밥\n",
      "cho 2025-01-24 등심돈까스\n",
      "hyun 2025-01-24 안심까스\n",
      "JERRY 2025-01-24 반반가츠\n",
      "SEO 2025-01-24 -\n",
      "jiwon 2025-01-24 부리또\n",
      "jacob 2025-01-24 순두부찌개\n",
      "heejin 2025-01-24 김치찌개\n",
      "lucas 2025-01-24 콩나물해장국\n",
      "nuni 2025-01-24 김치찌개,라면\n",
      "TOM 2025-02-03 짜장면\n",
      "cho 2025-02-03 치즈라면, 김밥\n",
      "hyun 2025-02-03 라돈 모다기\n",
      "JERRY 2025-02-03 모다기\n",
      "SEO 2025-02-03 닭죽\n",
      "jiwon 2025-02-03 잔치국수\n",
      "jacob 2025-02-03 김치 찌개\n",
      "heejin 2025-02-03 샌드위치\n",
      "lucas 2025-02-03 제육볶음\n",
      "nuni 2025-02-03 제육볶음\n"
     ]
    }
   ],
   "source": [
    "# 모든 사람의 날짜별 음식 출력\n",
    "for i in df.columns[6:-2]:  # 날짜 컬럼들만 순회\n",
    "    for j in range(len(df)):  # 각 행을 순회\n",
    "        print(df.iloc[j]['ename'], i, df.iloc[j][i])"
   ]
  },
  {
   "cell_type": "code",
   "execution_count": 16,
   "id": "b704edaa-990c-4814-9549-313447cdf826",
   "metadata": {},
   "outputs": [
    {
     "name": "stdout",
     "output_type": "stream",
     "text": [
      "hyun 2025-01-07 닭개장(특) , 꽈배기\n",
      "hyun 2025-01-08 주먹밥\n",
      "hyun 2025-01-09 얼큰 순대국밥\n",
      "hyun 2025-01-10 불닭로제찜닭\n",
      "hyun 2025-01-13 한솥\n",
      "hyun 2025-01-14 순대국밥\n",
      "hyun 2025-01-15 까르보나라 파스타\n",
      "hyun 2025-01-16 간짜장 곱빼기\n",
      "hyun 2025-01-17 참치김밥,라볶이\n",
      "hyun 2025-01-20 Forrk 카레\n",
      "hyun 2025-01-21 고등어구이,제육볶음\n",
      "hyun 2025-01-22 육회비빔밥\n",
      "hyun 2025-01-23 김치찌개\n",
      "hyun 2025-01-24 안심까스\n",
      "hyun 2025-02-03 라돈 모다기\n",
      "hyun 2025-02-04 -\n",
      "hyun 2025-02-05 -\n"
     ]
    }
   ],
   "source": [
    "# 'hyun'만 필터링하여 출력\n",
    "for i in df.columns[6:]:  # 날짜 컬럼들만 순회\n",
    "    for j in range(len(df)):  # 각 행을 순회\n",
    "        if df.iloc[j]['ename'] == 'hyun':  # 특정 사람만 출력\n",
    "            print(df.iloc[j]['ename'], i, df.iloc[j][i])"
   ]
  },
  {
   "cell_type": "code",
   "execution_count": 20,
   "id": "0ea5172a-1e64-48fe-8bc8-7aa6ebfad310",
   "metadata": {},
   "outputs": [
    {
     "name": "stdout",
     "output_type": "stream",
     "text": [
      "      ename          날짜            메뉴\n",
      "0       TOM  2025-01-07           순대국\n",
      "1       cho  2025-01-07           닭개장\n",
      "2      hyun  2025-01-07  닭개장(특) , 꽈배기\n",
      "3     JERRY  2025-01-07           닭개장\n",
      "4       SEO  2025-01-07           볶음밥\n",
      "..      ...         ...           ...\n",
      "145   jiwon  2025-02-03          잔치국수\n",
      "146   jacob  2025-02-03         김치 찌개\n",
      "147  heejin  2025-02-03          샌드위치\n",
      "148   lucas  2025-02-03          제육볶음\n",
      "149    nuni  2025-02-03          제육볶음\n",
      "\n",
      "[150 rows x 3 columns]\n"
     ]
    }
   ],
   "source": [
    "df_long = df.melt(id_vars=['ename'], value_vars=df.columns[6:-2], var_name='날짜', value_name='메뉴')\n",
    "print(df_long)"
   ]
  },
  {
   "cell_type": "code",
   "execution_count": null,
   "id": "0fdfe181-6652-417c-ba34-7a23cc1c9a02",
   "metadata": {},
   "outputs": [],
   "source": []
  }
 ],
 "metadata": {
  "kernelspec": {
   "display_name": "Python 3 (ipykernel)",
   "language": "python",
   "name": "python3"
  },
  "language_info": {
   "codemirror_mode": {
    "name": "ipython",
    "version": 3
   },
   "file_extension": ".py",
   "mimetype": "text/x-python",
   "name": "python",
   "nbconvert_exporter": "python",
   "pygments_lexer": "ipython3",
   "version": "3.10.12"
  }
 },
 "nbformat": 4,
 "nbformat_minor": 5
}
