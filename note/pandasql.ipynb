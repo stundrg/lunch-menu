{
 "cells": [
  {
   "cell_type": "code",
   "execution_count": 1,
   "id": "f768d684-2ac2-438b-b3a1-4ef6dcb89e05",
   "metadata": {},
   "outputs": [
    {
     "name": "stdout",
     "output_type": "stream",
     "text": [
      "✅ 정상적으로 데이터를 가져왔습니다!\n",
      "{\n",
      "    \"endpoints\": [\n",
      "      {\"name\": \"TOM\",\"url\": \"https://ac.sunsin.shop/api/py/select_all\"},\n",
      "      {\"name\": \"jiwon\",\"url\": \"https://agecal.wodan10.shop/api/py/select_all\"},\n",
      "      {\"name\": \"heejin\",\"u\n"
     ]
    }
   ],
   "source": [
    "import requests\n",
    "\n",
    "url = \"https://raw.githubusercontent.com/stundrg/lunch-menu/refs/heads/main/endpoints.json\"\n",
    "response = requests.get(url)\n",
    "\n",
    "if response.status_code == 200:\n",
    "    print(\"✅ 정상적으로 데이터를 가져왔습니다!\")\n",
    "    print(response.text[:200])  # 처음 200자만 출력 (데이터 확인)\n",
    "else:\n",
    "    print(f\"❌ 오류 발생: {response.status_code}\")"
   ]
  },
  {
   "cell_type": "code",
   "execution_count": null,
   "id": "a798f705-8512-4598-a945-f1883aaf7faa",
   "metadata": {},
   "outputs": [],
   "source": []
  }
 ],
 "metadata": {
  "kernelspec": {
   "display_name": "Python 3 (ipykernel)",
   "language": "python",
   "name": "python3"
  },
  "language_info": {
   "codemirror_mode": {
    "name": "ipython",
    "version": 3
   },
   "file_extension": ".py",
   "mimetype": "text/x-python",
   "name": "python",
   "nbconvert_exporter": "python",
   "pygments_lexer": "ipython3",
   "version": "3.10.12"
  }
 },
 "nbformat": 4,
 "nbformat_minor": 5
}
